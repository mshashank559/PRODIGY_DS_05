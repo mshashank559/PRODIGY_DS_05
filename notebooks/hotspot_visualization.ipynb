{
 "cells": [
  {
   "cell_type": "code",
   "execution_count": 1,
   "id": "5b09a52c",
   "metadata": {},
   "outputs": [],
   "source": [
    "import pandas as pd\n",
    "import folium\n",
    "import os"
   ]
  },
  {
   "cell_type": "code",
   "execution_count": 2,
   "id": "d4c9a2a1",
   "metadata": {},
   "outputs": [
    {
     "name": "stdout",
     "output_type": "stream",
     "text": [
      "Data loaded successfully. Shape: (165129, 48)\n"
     ]
    }
   ],
   "source": [
    "file_path = os.path.join('..', 'Cleaned data', 'processed_data.csv')  # go up one level\n",
    "\n",
    "if os.path.exists(file_path):\n",
    "    df = pd.read_csv(file_path)\n",
    "    print(\"Data loaded successfully. Shape:\", df.shape)\n",
    "else:\n",
    "    print(f\"File not found: {file_path}\")"
   ]
  },
  {
   "cell_type": "code",
   "execution_count": 4,
   "id": "58ac26bb",
   "metadata": {},
   "outputs": [],
   "source": [
    "os.makedirs('visuals', exist_ok=True)"
   ]
  },
  {
   "cell_type": "code",
   "execution_count": 5,
   "id": "01cf3ba9",
   "metadata": {},
   "outputs": [],
   "source": [
    "# Create base map centered on mean coordinates\n",
    "map_center = [df['Start_Lat'].mean(), df['Start_Lng'].mean()]\n",
    "accident_map = folium.Map(location=map_center, zoom_start=5, tiles='CartoDB positron')"
   ]
  },
  {
   "cell_type": "code",
   "execution_count": 6,
   "id": "dc0c93c3",
   "metadata": {},
   "outputs": [],
   "source": [
    "\n",
    "# Plot a sample of accident locations to avoid overloading\n",
    "for _, row in df.sample(500).iterrows():\n",
    "    folium.CircleMarker(\n",
    "        location=[row['Start_Lat'], row['Start_Lng']],\n",
    "        radius=2,\n",
    "        color='red',\n",
    "        fill=True,\n",
    "        fill_opacity=0.3\n",
    "    ).add_to(accident_map)"
   ]
  },
  {
   "cell_type": "code",
   "execution_count": 8,
   "id": "804766aa",
   "metadata": {},
   "outputs": [
    {
     "name": "stdout",
     "output_type": "stream",
     "text": [
      "Hotspot map saved to visuals/hotspot_map.html\n"
     ]
    }
   ],
   "source": [
    "accident_map.save('visuals/hotspot_map.html')\n",
    "print(\"Hotspot map saved to visuals/hotspot_map.html\")"
   ]
  }
 ],
 "metadata": {
  "kernelspec": {
   "display_name": "Python 3",
   "language": "python",
   "name": "python3"
  },
  "language_info": {
   "codemirror_mode": {
    "name": "ipython",
    "version": 3
   },
   "file_extension": ".py",
   "mimetype": "text/x-python",
   "name": "python",
   "nbconvert_exporter": "python",
   "pygments_lexer": "ipython3",
   "version": "3.11.3"
  }
 },
 "nbformat": 4,
 "nbformat_minor": 5
}
